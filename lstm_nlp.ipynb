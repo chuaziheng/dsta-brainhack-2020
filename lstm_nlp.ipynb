{
 "cells": [
  {
   "cell_type": "code",
   "execution_count": 1,
   "metadata": {
    "colab": {
     "base_uri": "https://localhost:8080/",
     "height": 120
    },
    "colab_type": "code",
    "id": "kjEKBK8wm8Qi",
    "outputId": "b8ccb7cb-ed4e-401d-9fda-0892ad928095"
   },
   "outputs": [
    {
     "data": {
      "text/html": [
       "<div>\n",
       "<style scoped>\n",
       "    .dataframe tbody tr th:only-of-type {\n",
       "        vertical-align: middle;\n",
       "    }\n",
       "\n",
       "    .dataframe tbody tr th {\n",
       "        vertical-align: top;\n",
       "    }\n",
       "\n",
       "    .dataframe thead th {\n",
       "        text-align: right;\n",
       "    }\n",
       "</style>\n",
       "<table border=\"1\" class=\"dataframe\">\n",
       "  <thead>\n",
       "    <tr style=\"text-align: right;\">\n",
       "      <th></th>\n",
       "      <th>id</th>\n",
       "      <th>word_representation</th>\n",
       "      <th>outwear</th>\n",
       "      <th>top</th>\n",
       "      <th>trousers</th>\n",
       "      <th>women dresses</th>\n",
       "      <th>women skirts</th>\n",
       "    </tr>\n",
       "  </thead>\n",
       "  <tbody>\n",
       "    <tr>\n",
       "      <th>0</th>\n",
       "      <td>0</td>\n",
       "      <td>w7718 w173355 w138132 w232277 w90685 w314686 w...</td>\n",
       "      <td>1</td>\n",
       "      <td>0</td>\n",
       "      <td>1</td>\n",
       "      <td>0</td>\n",
       "      <td>0</td>\n",
       "    </tr>\n",
       "    <tr>\n",
       "      <th>1</th>\n",
       "      <td>1</td>\n",
       "      <td>w195317 w127737 w171593 w22890 w342007 w217871...</td>\n",
       "      <td>1</td>\n",
       "      <td>0</td>\n",
       "      <td>1</td>\n",
       "      <td>0</td>\n",
       "      <td>0</td>\n",
       "    </tr>\n",
       "    <tr>\n",
       "      <th>2</th>\n",
       "      <td>2</td>\n",
       "      <td>w247655 w270233 w261113 w337250 w366000 w37873...</td>\n",
       "      <td>0</td>\n",
       "      <td>1</td>\n",
       "      <td>1</td>\n",
       "      <td>0</td>\n",
       "      <td>0</td>\n",
       "    </tr>\n",
       "    <tr>\n",
       "      <th>3</th>\n",
       "      <td>3</td>\n",
       "      <td>w279289 w395855 w61795 w286461 w308610 w27013 ...</td>\n",
       "      <td>1</td>\n",
       "      <td>0</td>\n",
       "      <td>1</td>\n",
       "      <td>0</td>\n",
       "      <td>0</td>\n",
       "    </tr>\n",
       "    <tr>\n",
       "      <th>4</th>\n",
       "      <td>4</td>\n",
       "      <td>w254516 w135431 w115724 w331534 w256214 w71240...</td>\n",
       "      <td>1</td>\n",
       "      <td>0</td>\n",
       "      <td>1</td>\n",
       "      <td>0</td>\n",
       "      <td>0</td>\n",
       "    </tr>\n",
       "  </tbody>\n",
       "</table>\n",
       "</div>"
      ],
      "text/plain": [
       "   id                                word_representation  outwear  top  \\\n",
       "0   0  w7718 w173355 w138132 w232277 w90685 w314686 w...        1    0   \n",
       "1   1  w195317 w127737 w171593 w22890 w342007 w217871...        1    0   \n",
       "2   2  w247655 w270233 w261113 w337250 w366000 w37873...        0    1   \n",
       "3   3  w279289 w395855 w61795 w286461 w308610 w27013 ...        1    0   \n",
       "4   4  w254516 w135431 w115724 w331534 w256214 w71240...        1    0   \n",
       "\n",
       "   trousers  women dresses  women skirts  \n",
       "0         1              0             0  \n",
       "1         1              0             0  \n",
       "2         1              0             0  \n",
       "3         1              0             0  \n",
       "4         1              0             0  "
      ]
     },
     "execution_count": 1,
     "metadata": {},
     "output_type": "execute_result"
    }
   ],
   "source": [
    "import pandas as pd\n",
    "# from google.colab import drive\n",
    "# drive.mount('/content/drive')\n",
    "# fashion_train = pd.read_csv('/content/drive/My Drive/Colab Notebooks/TIL2020/fashion/TIL_NLP_train_dataset.csv')\n",
    "fashion_train = pd.read_csv('datasets/TIL_NLP_train_dataset.csv')\n",
    "fashion_train.head()"
   ]
  },
  {
   "cell_type": "code",
   "execution_count": 2,
   "metadata": {
    "colab": {
     "base_uri": "https://localhost:8080/",
     "height": 250
    },
    "colab_type": "code",
    "id": "SEf9nfg7_04m",
    "outputId": "b248a155-b80f-4554-c37c-ea8df77c45bf"
   },
   "outputs": [
    {
     "name": "stdout",
     "output_type": "stream",
     "text": [
      "<class 'pandas.core.frame.DataFrame'>\n",
      "RangeIndex: 7380 entries, 0 to 7379\n",
      "Data columns (total 7 columns):\n",
      " #   Column               Non-Null Count  Dtype \n",
      "---  ------               --------------  ----- \n",
      " 0   id                   7380 non-null   int64 \n",
      " 1   word_representation  7380 non-null   object\n",
      " 2   outwear              7380 non-null   int64 \n",
      " 3   top                  7380 non-null   int64 \n",
      " 4   trousers             7380 non-null   int64 \n",
      " 5   women dresses        7380 non-null   int64 \n",
      " 6   women skirts         7380 non-null   int64 \n",
      "dtypes: int64(6), object(1)\n",
      "memory usage: 403.7+ KB\n"
     ]
    }
   ],
   "source": [
    "# take a look at data types in fashion_train\n",
    "fashion_train.info()"
   ]
  },
  {
   "cell_type": "code",
   "execution_count": 3,
   "metadata": {
    "colab": {
     "base_uri": "https://localhost:8080/",
     "height": 407
    },
    "colab_type": "code",
    "id": "he5CFRa4noI3",
    "outputId": "4609fb53-d7bd-4c27-dcc4-c365974b6e2b"
   },
   "outputs": [
    {
     "data": {
      "text/html": [
       "<div>\n",
       "<style scoped>\n",
       "    .dataframe tbody tr th:only-of-type {\n",
       "        vertical-align: middle;\n",
       "    }\n",
       "\n",
       "    .dataframe tbody tr th {\n",
       "        vertical-align: top;\n",
       "    }\n",
       "\n",
       "    .dataframe thead th {\n",
       "        text-align: right;\n",
       "    }\n",
       "</style>\n",
       "<table border=\"1\" class=\"dataframe\">\n",
       "  <thead>\n",
       "    <tr style=\"text-align: right;\">\n",
       "      <th></th>\n",
       "      <th>id</th>\n",
       "      <th>word_representation</th>\n",
       "      <th>outwear</th>\n",
       "      <th>top</th>\n",
       "      <th>trousers</th>\n",
       "      <th>women dresses</th>\n",
       "      <th>women skirts</th>\n",
       "    </tr>\n",
       "  </thead>\n",
       "  <tbody>\n",
       "    <tr>\n",
       "      <th>0</th>\n",
       "      <td>0</td>\n",
       "      <td>w7718 w173355 w138132 w232277 w90685 w314686 w...</td>\n",
       "      <td>1</td>\n",
       "      <td>0</td>\n",
       "      <td>1</td>\n",
       "      <td>0</td>\n",
       "      <td>0</td>\n",
       "    </tr>\n",
       "    <tr>\n",
       "      <th>1</th>\n",
       "      <td>1</td>\n",
       "      <td>w195317 w127737 w171593 w22890 w342007 w217871...</td>\n",
       "      <td>1</td>\n",
       "      <td>0</td>\n",
       "      <td>1</td>\n",
       "      <td>0</td>\n",
       "      <td>0</td>\n",
       "    </tr>\n",
       "    <tr>\n",
       "      <th>2</th>\n",
       "      <td>2</td>\n",
       "      <td>w247655 w270233 w261113 w337250 w366000 w37873...</td>\n",
       "      <td>0</td>\n",
       "      <td>1</td>\n",
       "      <td>1</td>\n",
       "      <td>0</td>\n",
       "      <td>0</td>\n",
       "    </tr>\n",
       "    <tr>\n",
       "      <th>3</th>\n",
       "      <td>3</td>\n",
       "      <td>w279289 w395855 w61795 w286461 w308610 w27013 ...</td>\n",
       "      <td>1</td>\n",
       "      <td>0</td>\n",
       "      <td>1</td>\n",
       "      <td>0</td>\n",
       "      <td>0</td>\n",
       "    </tr>\n",
       "    <tr>\n",
       "      <th>4</th>\n",
       "      <td>4</td>\n",
       "      <td>w254516 w135431 w115724 w331534 w256214 w71240...</td>\n",
       "      <td>1</td>\n",
       "      <td>0</td>\n",
       "      <td>1</td>\n",
       "      <td>0</td>\n",
       "      <td>0</td>\n",
       "    </tr>\n",
       "    <tr>\n",
       "      <th>...</th>\n",
       "      <td>...</td>\n",
       "      <td>...</td>\n",
       "      <td>...</td>\n",
       "      <td>...</td>\n",
       "      <td>...</td>\n",
       "      <td>...</td>\n",
       "      <td>...</td>\n",
       "    </tr>\n",
       "    <tr>\n",
       "      <th>7375</th>\n",
       "      <td>7375</td>\n",
       "      <td>w373517 w350483 w37419 w162965 w286461 w35248 ...</td>\n",
       "      <td>0</td>\n",
       "      <td>1</td>\n",
       "      <td>1</td>\n",
       "      <td>0</td>\n",
       "      <td>0</td>\n",
       "    </tr>\n",
       "    <tr>\n",
       "      <th>7376</th>\n",
       "      <td>7376</td>\n",
       "      <td>w261297 w162756 w283853 w500021 w256905 w22079...</td>\n",
       "      <td>1</td>\n",
       "      <td>1</td>\n",
       "      <td>0</td>\n",
       "      <td>0</td>\n",
       "      <td>0</td>\n",
       "    </tr>\n",
       "    <tr>\n",
       "      <th>7377</th>\n",
       "      <td>7377</td>\n",
       "      <td>w58536 w182664 w317736 w261297 w91800 w314686 ...</td>\n",
       "      <td>1</td>\n",
       "      <td>0</td>\n",
       "      <td>1</td>\n",
       "      <td>0</td>\n",
       "      <td>0</td>\n",
       "    </tr>\n",
       "    <tr>\n",
       "      <th>7378</th>\n",
       "      <td>7378</td>\n",
       "      <td>w194870 w122953 w256905 w66217 w207614 w34893 ...</td>\n",
       "      <td>1</td>\n",
       "      <td>1</td>\n",
       "      <td>0</td>\n",
       "      <td>0</td>\n",
       "      <td>0</td>\n",
       "    </tr>\n",
       "    <tr>\n",
       "      <th>7379</th>\n",
       "      <td>7379</td>\n",
       "      <td>w194870 w122953 w66217 w207614 w34893 w56481 w...</td>\n",
       "      <td>1</td>\n",
       "      <td>0</td>\n",
       "      <td>1</td>\n",
       "      <td>0</td>\n",
       "      <td>0</td>\n",
       "    </tr>\n",
       "  </tbody>\n",
       "</table>\n",
       "<p>7380 rows × 7 columns</p>\n",
       "</div>"
      ],
      "text/plain": [
       "        id                                word_representation  outwear  top  \\\n",
       "0        0  w7718 w173355 w138132 w232277 w90685 w314686 w...        1    0   \n",
       "1        1  w195317 w127737 w171593 w22890 w342007 w217871...        1    0   \n",
       "2        2  w247655 w270233 w261113 w337250 w366000 w37873...        0    1   \n",
       "3        3  w279289 w395855 w61795 w286461 w308610 w27013 ...        1    0   \n",
       "4        4  w254516 w135431 w115724 w331534 w256214 w71240...        1    0   \n",
       "...    ...                                                ...      ...  ...   \n",
       "7375  7375  w373517 w350483 w37419 w162965 w286461 w35248 ...        0    1   \n",
       "7376  7376  w261297 w162756 w283853 w500021 w256905 w22079...        1    1   \n",
       "7377  7377  w58536 w182664 w317736 w261297 w91800 w314686 ...        1    0   \n",
       "7378  7378  w194870 w122953 w256905 w66217 w207614 w34893 ...        1    1   \n",
       "7379  7379  w194870 w122953 w66217 w207614 w34893 w56481 w...        1    0   \n",
       "\n",
       "      trousers  women dresses  women skirts  \n",
       "0            1              0             0  \n",
       "1            1              0             0  \n",
       "2            1              0             0  \n",
       "3            1              0             0  \n",
       "4            1              0             0  \n",
       "...        ...            ...           ...  \n",
       "7375         1              0             0  \n",
       "7376         0              0             0  \n",
       "7377         1              0             0  \n",
       "7378         0              0             0  \n",
       "7379         1              0             0  \n",
       "\n",
       "[7380 rows x 7 columns]"
      ]
     },
     "execution_count": 3,
     "metadata": {},
     "output_type": "execute_result"
    }
   ],
   "source": [
    "fashion_train"
   ]
  },
  {
   "cell_type": "code",
   "execution_count": 4,
   "metadata": {
    "colab": {
     "base_uri": "https://localhost:8080/",
     "height": 33
    },
    "colab_type": "code",
    "id": "hTI6_vg2L-DU",
    "outputId": "be20b232-8bb7-471e-f59b-499834343fc0"
   },
   "outputs": [
    {
     "name": "stdout",
     "output_type": "stream",
     "text": [
      "maximum length of sentence =  47\n"
     ]
    }
   ],
   "source": [
    "# find the longest sentence\n",
    "\n",
    "def max_len(x):\n",
    "    a=x.split()\n",
    "    return len(a)\n",
    "\n",
    "print('maximum length of sentence = ', max( fashion_train['word_representation'].apply(max_len)))"
   ]
  },
  {
   "cell_type": "code",
   "execution_count": 5,
   "metadata": {
    "colab": {},
    "colab_type": "code",
    "id": "tXQeel6a5IMY"
   },
   "outputs": [],
   "source": [
    "MAX_LEN = 47\n",
    "DIM = 100"
   ]
  },
  {
   "cell_type": "code",
   "execution_count": 6,
   "metadata": {
    "colab": {
     "base_uri": "https://localhost:8080/",
     "height": 33
    },
    "colab_type": "code",
    "id": "tt36gFlZQWvE",
    "outputId": "4d73d115-285e-4238-d3ce-938d1c8d1b25"
   },
   "outputs": [
    {
     "name": "stderr",
     "output_type": "stream",
     "text": [
      "Using TensorFlow backend.\n"
     ]
    },
    {
     "name": "stdout",
     "output_type": "stream",
     "text": [
      "Number of unique words=  4250\n"
     ]
    }
   ],
   "source": [
    "# find the number of unique words\n",
    "\n",
    "from keras.preprocessing.text import Tokenizer\n",
    "vect=Tokenizer()\n",
    "vect.fit_on_texts(fashion_train['word_representation'])\n",
    "word_index = vect.word_index\n",
    "print('Number of unique words= ', len(vect.word_index) + 1)"
   ]
  },
  {
   "cell_type": "code",
   "execution_count": 7,
   "metadata": {
    "colab": {
     "base_uri": "https://localhost:8080/",
     "height": 407
    },
    "colab_type": "code",
    "id": "iE9KemDpADQf",
    "outputId": "ae67eb9f-8de1-4cdd-c774-5ef7ac90eb77"
   },
   "outputs": [
    {
     "data": {
      "text/html": [
       "<div>\n",
       "<style scoped>\n",
       "    .dataframe tbody tr th:only-of-type {\n",
       "        vertical-align: middle;\n",
       "    }\n",
       "\n",
       "    .dataframe tbody tr th {\n",
       "        vertical-align: top;\n",
       "    }\n",
       "\n",
       "    .dataframe thead th {\n",
       "        text-align: right;\n",
       "    }\n",
       "</style>\n",
       "<table border=\"1\" class=\"dataframe\">\n",
       "  <thead>\n",
       "    <tr style=\"text-align: right;\">\n",
       "      <th></th>\n",
       "      <th>id</th>\n",
       "      <th>word_representation</th>\n",
       "    </tr>\n",
       "  </thead>\n",
       "  <tbody>\n",
       "    <tr>\n",
       "      <th>0</th>\n",
       "      <td>0</td>\n",
       "      <td>w373517 w383437 w374393 w87179 w289496 w327385...</td>\n",
       "    </tr>\n",
       "    <tr>\n",
       "      <th>1</th>\n",
       "      <td>1</td>\n",
       "      <td>w237465 w167111 w279437 w194870 w351537 w17560...</td>\n",
       "    </tr>\n",
       "    <tr>\n",
       "      <th>2</th>\n",
       "      <td>2</td>\n",
       "      <td>w151648 w93366 w121255 w193800 w71240 w48576 w...</td>\n",
       "    </tr>\n",
       "    <tr>\n",
       "      <th>3</th>\n",
       "      <td>3</td>\n",
       "      <td>w182664 w317736 w33852 w111248 w45374 w209361 ...</td>\n",
       "    </tr>\n",
       "    <tr>\n",
       "      <th>4</th>\n",
       "      <td>4</td>\n",
       "      <td>w206647 w236725 w99560 w338476 w75409 w36882 w...</td>\n",
       "    </tr>\n",
       "    <tr>\n",
       "      <th>...</th>\n",
       "      <td>...</td>\n",
       "      <td>...</td>\n",
       "    </tr>\n",
       "    <tr>\n",
       "      <th>2455</th>\n",
       "      <td>2455</td>\n",
       "      <td>w104709 w384021 w277040 w365489 w500187 w25013...</td>\n",
       "    </tr>\n",
       "    <tr>\n",
       "      <th>2456</th>\n",
       "      <td>2456</td>\n",
       "      <td>w195317 w102200 w381413 w34893 w183695 w69002 ...</td>\n",
       "    </tr>\n",
       "    <tr>\n",
       "      <th>2457</th>\n",
       "      <td>2457</td>\n",
       "      <td>w373517 w347736 w159941 w34893 w39218 w223408 ...</td>\n",
       "    </tr>\n",
       "    <tr>\n",
       "      <th>2458</th>\n",
       "      <td>2458</td>\n",
       "      <td>w207614 w194000 w390708 w322224 w70969 w311583...</td>\n",
       "    </tr>\n",
       "    <tr>\n",
       "      <th>2459</th>\n",
       "      <td>2459</td>\n",
       "      <td>w121255 w93366 w112319 w165609 w97740 w59869 w...</td>\n",
       "    </tr>\n",
       "  </tbody>\n",
       "</table>\n",
       "<p>2460 rows × 2 columns</p>\n",
       "</div>"
      ],
      "text/plain": [
       "        id                                word_representation\n",
       "0        0  w373517 w383437 w374393 w87179 w289496 w327385...\n",
       "1        1  w237465 w167111 w279437 w194870 w351537 w17560...\n",
       "2        2  w151648 w93366 w121255 w193800 w71240 w48576 w...\n",
       "3        3  w182664 w317736 w33852 w111248 w45374 w209361 ...\n",
       "4        4  w206647 w236725 w99560 w338476 w75409 w36882 w...\n",
       "...    ...                                                ...\n",
       "2455  2455  w104709 w384021 w277040 w365489 w500187 w25013...\n",
       "2456  2456  w195317 w102200 w381413 w34893 w183695 w69002 ...\n",
       "2457  2457  w373517 w347736 w159941 w34893 w39218 w223408 ...\n",
       "2458  2458  w207614 w194000 w390708 w322224 w70969 w311583...\n",
       "2459  2459  w121255 w93366 w112319 w165609 w97740 w59869 w...\n",
       "\n",
       "[2460 rows x 2 columns]"
      ]
     },
     "execution_count": 7,
     "metadata": {},
     "output_type": "execute_result"
    }
   ],
   "source": [
    "fashion_test = pd.read_csv('datasets/TIL_NLP_test_dataset.csv')\n",
    "fashion_test"
   ]
  },
  {
   "cell_type": "code",
   "execution_count": 8,
   "metadata": {
    "colab": {},
    "colab_type": "code",
    "id": "TCw5JJ34vn8T"
   },
   "outputs": [],
   "source": [
    "from numpy import array\n",
    "from keras.preprocessing.text import one_hot\n",
    "from keras.preprocessing.sequence import pad_sequences\n",
    "from keras.models import Sequential\n",
    "from keras.layers.core import Activation, Dropout, Dense\n",
    "from keras.layers import Flatten, LSTM\n",
    "from keras.layers import GlobalMaxPooling1D\n",
    "from keras.models import Model\n",
    "from keras.layers.embeddings import Embedding\n",
    "from sklearn.model_selection import train_test_split\n",
    "from keras.preprocessing.text import Tokenizer\n",
    "from keras.layers import Input\n",
    "from keras.layers.merge import Concatenate\n",
    "from keras.callbacks import ModelCheckpoint ,EarlyStopping\n",
    "import pandas as pd\n",
    "import numpy as np\n",
    "import re\n",
    "\n",
    "import matplotlib.pyplot as plt"
   ]
  },
  {
   "cell_type": "code",
   "execution_count": 9,
   "metadata": {
    "colab": {
     "base_uri": "https://localhost:8080/",
     "height": 197
    },
    "colab_type": "code",
    "id": "z7NfcVEJk2Ho",
    "outputId": "f428a999-d14e-4cf6-dac0-b8f419b9ffa7"
   },
   "outputs": [
    {
     "data": {
      "text/html": [
       "<div>\n",
       "<style scoped>\n",
       "    .dataframe tbody tr th:only-of-type {\n",
       "        vertical-align: middle;\n",
       "    }\n",
       "\n",
       "    .dataframe tbody tr th {\n",
       "        vertical-align: top;\n",
       "    }\n",
       "\n",
       "    .dataframe thead th {\n",
       "        text-align: right;\n",
       "    }\n",
       "</style>\n",
       "<table border=\"1\" class=\"dataframe\">\n",
       "  <thead>\n",
       "    <tr style=\"text-align: right;\">\n",
       "      <th></th>\n",
       "      <th>outwear</th>\n",
       "      <th>top</th>\n",
       "      <th>trousers</th>\n",
       "      <th>women dresses</th>\n",
       "      <th>women skirts</th>\n",
       "    </tr>\n",
       "  </thead>\n",
       "  <tbody>\n",
       "    <tr>\n",
       "      <th>0</th>\n",
       "      <td>1</td>\n",
       "      <td>0</td>\n",
       "      <td>1</td>\n",
       "      <td>0</td>\n",
       "      <td>0</td>\n",
       "    </tr>\n",
       "    <tr>\n",
       "      <th>1</th>\n",
       "      <td>1</td>\n",
       "      <td>0</td>\n",
       "      <td>1</td>\n",
       "      <td>0</td>\n",
       "      <td>0</td>\n",
       "    </tr>\n",
       "    <tr>\n",
       "      <th>2</th>\n",
       "      <td>0</td>\n",
       "      <td>1</td>\n",
       "      <td>1</td>\n",
       "      <td>0</td>\n",
       "      <td>0</td>\n",
       "    </tr>\n",
       "    <tr>\n",
       "      <th>3</th>\n",
       "      <td>1</td>\n",
       "      <td>0</td>\n",
       "      <td>1</td>\n",
       "      <td>0</td>\n",
       "      <td>0</td>\n",
       "    </tr>\n",
       "    <tr>\n",
       "      <th>4</th>\n",
       "      <td>1</td>\n",
       "      <td>0</td>\n",
       "      <td>1</td>\n",
       "      <td>0</td>\n",
       "      <td>0</td>\n",
       "    </tr>\n",
       "  </tbody>\n",
       "</table>\n",
       "</div>"
      ],
      "text/plain": [
       "   outwear  top  trousers  women dresses  women skirts\n",
       "0        1    0         1              0             0\n",
       "1        1    0         1              0             0\n",
       "2        0    1         1              0             0\n",
       "3        1    0         1              0             0\n",
       "4        1    0         1              0             0"
      ]
     },
     "execution_count": 9,
     "metadata": {},
     "output_type": "execute_result"
    }
   ],
   "source": [
    "# get output in another dataframe\n",
    "\n",
    "train_labels_df = fashion_train[[\"outwear\", \"top\", \"trousers\", \"women dresses\", \"women skirts\"]]\n",
    "train_labels_df.head()"
   ]
  },
  {
   "cell_type": "code",
   "execution_count": 10,
   "metadata": {
    "colab": {
     "base_uri": "https://localhost:8080/",
     "height": 567
    },
    "colab_type": "code",
    "id": "s6Ov1x4Zvgtu",
    "outputId": "5c5599ee-3f4f-4447-83c4-5032f8a23742"
   },
   "outputs": [
    {
     "data": {
      "text/plain": [
       "<matplotlib.axes._subplots.AxesSubplot at 0x29485bfcdc8>"
      ]
     },
     "execution_count": 10,
     "metadata": {},
     "output_type": "execute_result"
    },
    {
     "data": {
      "image/png": "[encoded data removed]",
      "text/plain": [
       "<Figure size 720x576 with 1 Axes>"
      ]
     },
     "metadata": {
      "needs_background": "light"
     },
     "output_type": "display_data"
    }
   ],
   "source": [
    "# take a look at the distribution of output\n",
    "fig_size = plt.rcParams[\"figure.figsize\"]\n",
    "fig_size[0] = 10\n",
    "fig_size[1] = 8\n",
    "plt.rcParams[\"figure.figsize\"] = fig_size\n",
    "\n",
    "train_labels_df.sum(axis=0).plot.bar()"
   ]
  },
  {
   "cell_type": "code",
   "execution_count": 11,
   "metadata": {
    "colab": {},
    "colab_type": "code",
    "id": "2_pHAWo_nlLH"
   },
   "outputs": [],
   "source": [
    "# get X and y\n",
    "X = []\n",
    "sentences = list(fashion_train[\"word_representation\"])\n",
    "for sen in sentences:\n",
    "    X.append(sen)\n",
    "\n",
    "#Here we do not need to perform any one-hot encoding because our output labels are already in the form of one-hot encoded vectors.\n",
    "y = train_labels_df.values"
   ]
  },
  {
   "cell_type": "code",
   "execution_count": 12,
   "metadata": {
    "colab": {},
    "colab_type": "code",
    "id": "UPHmPTQSxBKI"
   },
   "outputs": [],
   "source": [
    "y_train = y"
   ]
  },
  {
   "cell_type": "code",
   "execution_count": 13,
   "metadata": {
    "colab": {},
    "colab_type": "code",
    "id": "lrIwfoiCxYMk"
   },
   "outputs": [],
   "source": [
    "X_train = []\n",
    "for index in fashion_train.index:\n",
    "  X_train.append(fashion_train['word_representation'][index])\n",
    "  \n",
    "X_test = []\n",
    "for index in fashion_test.index:\n",
    "  X_test.append(fashion_test['word_representation'][index])"
   ]
  },
  {
   "cell_type": "code",
   "execution_count": 14,
   "metadata": {
    "colab": {},
    "colab_type": "code",
    "id": "hBGeVKQdwkIj"
   },
   "outputs": [],
   "source": [
    "#word embeddings\n",
    "\n",
    "tokenizer = Tokenizer(num_words=5000)\n",
    "tokenizer.fit_on_texts(X_train)\n",
    "\n",
    "X_train = tokenizer.texts_to_sequences(X_train)\n",
    "X_test = tokenizer.texts_to_sequences(X_test)\n",
    "\n",
    "vocab_size = len(tokenizer.word_index) + 1\n",
    "\n",
    "MAX_LEN = 47\n",
    "DIM = 100\n",
    "MAX_WORDS= 10000\n",
    "VALIDATION_SPLIT = 0.2\n",
    "\n",
    "X_train = pad_sequences(X_train, padding='post', maxlen=MAX_LEN)\n",
    "X_test = pad_sequences(X_test, padding='post', maxlen=MAX_LEN)\n"
   ]
  },
  {
   "cell_type": "code",
   "execution_count": 15,
   "metadata": {
    "colab": {},
    "colab_type": "code",
    "id": "rHedBLUPDA-O"
   },
   "outputs": [],
   "source": [
    "#import the pretrained word embedding file\n",
    "\n",
    "import pickle\n",
    "with open('datasets/word_embeddings.pkl', 'rb') as f:\n",
    "    word_embeddings = pickle.load(f)"
   ]
  },
  {
   "cell_type": "code",
   "execution_count": 16,
   "metadata": {
    "colab": {
     "base_uri": "https://localhost:8080/",
     "height": 50
    },
    "colab_type": "code",
    "id": "r_wGgkcFwkCJ",
    "outputId": "c7b888e6-e97f-4a4f-8717-3cb245ff8657"
   },
   "outputs": [
    {
     "name": "stdout",
     "output_type": "stream",
     "text": [
      "Preparing embedding matrix.\n"
     ]
    },
    {
     "data": {
      "text/plain": [
       "(4250, 100)"
      ]
     },
     "execution_count": 16,
     "metadata": {},
     "output_type": "execute_result"
    }
   ],
   "source": [
    "# processing word_embeddings.pkl as embedding matrix\n",
    "\n",
    "print('Preparing embedding matrix.')\n",
    "\n",
    "\n",
    "\n",
    "# prepare embedding matrix\n",
    "num_words = min(MAX_WORDS, len(word_index) + 1)\n",
    "embedding_matrix = np.zeros((num_words, DIM))\n",
    "for word, i in word_index.items():\n",
    "    if i >= MAX_WORDS:\n",
    "        continue\n",
    "    embedding_vector = word_embeddings.get(word)\n",
    "    if embedding_vector is not None:\n",
    "        # words not found in embedding index will be all-zeros.\n",
    "        embedding_matrix[i] = embedding_vector\n",
    "\n",
    "embedding_matrix.shape"
   ]
  },
  {
   "cell_type": "code",
   "execution_count": 17,
   "metadata": {
    "colab": {},
    "colab_type": "code",
    "id": "WDuGuUxPwj6r"
   },
   "outputs": [],
   "source": [
    "# Our model will have one input layer, one embedding layer, 2 LSTM layer with 128 neurons and one output layer with 5 neurons since we have 5 labels in the output\n",
    "\n",
    "deep_inputs = Input(shape=(MAX_LEN,))\n",
    "embedding_layer = Embedding(vocab_size, 100, weights=[embedding_matrix], trainable=False)(deep_inputs)\n",
    "LSTM_Layer_1 = LSTM(128,return_sequences=True, dropout =0.4, recurrent_dropout = 0.4)(embedding_layer) #,return_sequences=True\n",
    "LSTM_Layer_2 = LSTM(64)(LSTM_Layer_1) #,dropout = 0.5, recurrent_dropout=0.5\n",
    "dense_layer_1 = Dense(5, activation='sigmoid')(LSTM_Layer_2)\n",
    "model = Model(inputs=deep_inputs, outputs=dense_layer_1)\n",
    "\n",
    "model.compile(loss='binary_crossentropy', optimizer='adam', metrics=['acc'])"
   ]
  },
  {
   "cell_type": "code",
   "execution_count": 18,
   "metadata": {
    "colab": {
     "base_uri": "https://localhost:8080/",
     "height": 300
    },
    "colab_type": "code",
    "id": "0pfDmrYSwjwC",
    "outputId": "c878dc10-e0ab-4a25-eede-003b30fbca35"
   },
   "outputs": [
    {
     "name": "stdout",
     "output_type": "stream",
     "text": [
      "Model: \"model_1\"\n",
      "_________________________________________________________________\n",
      "Layer (type)                 Output Shape              Param #   \n",
      "=================================================================\n",
      "input_1 (InputLayer)         (None, 47)                0         \n",
      "_________________________________________________________________\n",
      "embedding_1 (Embedding)      (None, 47, 100)           425000    \n",
      "_________________________________________________________________\n",
      "lstm_1 (LSTM)                (None, 47, 128)           117248    \n",
      "_________________________________________________________________\n",
      "lstm_2 (LSTM)                (None, 64)                49408     \n",
      "_________________________________________________________________\n",
      "dense_1 (Dense)              (None, 5)                 325       \n",
      "=================================================================\n",
      "Total params: 591,981\n",
      "Trainable params: 166,981\n",
      "Non-trainable params: 425,000\n",
      "_________________________________________________________________\n",
      "None\n"
     ]
    }
   ],
   "source": [
    "print(model.summary())"
   ]
  },
  {
   "cell_type": "code",
   "execution_count": 110,
   "metadata": {},
   "outputs": [],
   "source": [
    "es_callback = EarlyStopping(monitor='val_loss', patience=40) #early stopping if the val loss doesnt improve after awhile"
   ]
  },
  {
   "cell_type": "code",
   "execution_count": 111,
   "metadata": {
    "colab": {
     "base_uri": "https://localhost:8080/",
     "height": 422
    },
    "colab_type": "code",
    "id": "NlDhjRzW2m65",
    "outputId": "21f088fb-b0e3-49bf-8ab9-308958d4412e"
   },
   "outputs": [
    {
     "data": {
      "image/png": "[encoded data removed]",
      "text/plain": [
       "<IPython.core.display.Image object>"
      ]
     },
     "execution_count": 111,
     "metadata": {},
     "output_type": "execute_result"
    }
   ],
   "source": [
    "#visualisation of the above summary\n",
    "\n",
    "from keras.utils import plot_model\n",
    "plot_model(model, to_file='model_plot4a.png', show_shapes=True, show_layer_names=True)"
   ]
  },
  {
   "cell_type": "code",
   "execution_count": null,
   "metadata": {
    "colab": {
     "base_uri": "https://localhost:8080/",
     "height": 200
    },
    "colab_type": "code",
    "id": "fheqJZnH3JS-",
    "outputId": "5fbec7fc-2f27-4652-dc96-d38fc0ce061b",
    "scrolled": false
   },
   "outputs": [
    {
     "name": "stdout",
     "output_type": "stream",
     "text": [
      "Train on 5904 samples, validate on 1476 samples\n",
      "Epoch 1/200\n",
      "5904/5904 [==============================] - 21s 4ms/step - loss: 0.6515 - acc: 0.6106 - val_loss: 0.6173 - val_acc: 0.6547\n",
      "Epoch 2/200\n",
      "5904/5904 [==============================] - 19s 3ms/step - loss: 0.6194 - acc: 0.6448 - val_loss: 0.5747 - val_acc: 0.6705\n",
      "Epoch 3/200\n",
      "5904/5904 [==============================] - 15s 3ms/step - loss: 0.5948 - acc: 0.6600 - val_loss: 0.5476 - val_acc: 0.6756\n",
      "Epoch 4/200\n",
      "5904/5904 [==============================] - 21s 3ms/step - loss: 0.5740 - acc: 0.6749 - val_loss: 0.5278 - val_acc: 0.6766\n",
      "Epoch 5/200\n",
      "5904/5904 [==============================] - 17s 3ms/step - loss: 0.5522 - acc: 0.6840 - val_loss: 0.5012 - val_acc: 0.7007\n",
      "Epoch 6/200\n",
      "5904/5904 [==============================] - 15s 3ms/step - loss: 0.5357 - acc: 0.6883 - val_loss: 0.4923 - val_acc: 0.6897\n",
      "Epoch 7/200\n",
      "1920/5904 [========>.....................] - ETA: 8s - loss: 0.5244 - acc: 0.6981"
     ]
    }
   ],
   "source": [
    "history = model.fit(X_train, y_train, batch_size=128, epochs=200, verbose=1, validation_split=0.2,callbacks=[es_callback])"
   ]
  },
  {
   "cell_type": "code",
   "execution_count": null,
   "metadata": {},
   "outputs": [],
   "source": [
    "import matplotlib.pyplot as plt\n",
    "\n",
    "history_dict = history.history\n",
    "\n",
    "acc = history_dict['acc']\n",
    "val_acc = history_dict['val_acc']\n",
    "loss=history_dict['loss']\n",
    "val_loss=history_dict['val_loss']\n",
    "\n",
    "epochs = range(1, len(acc) + 1)\n",
    "\n",
    "plt.figure(figsize=(12,9))\n",
    "plt.plot(epochs, loss, 'bo', label='Training loss')\n",
    "plt.plot(epochs, val_loss, 'b', label='Validation loss')\n",
    "plt.title('Training and validation loss')\n",
    "plt.xlabel('Epochs')\n",
    "plt.ylabel('Loss')\n",
    "plt.legend()\n",
    "plt.show()\n",
    "\n",
    "plt.figure(figsize=(12,9))\n",
    "plt.plot(epochs, acc, 'bo', label='Training acc')\n",
    "plt.plot(epochs, val_acc, 'b', label='Validation acc')\n",
    "plt.title('Training and validation accuracy')\n",
    "plt.xlabel('Epochs')\n",
    "plt.ylabel('Accuracy')\n",
    "plt.legend(loc='lower right')\n",
    "plt.ylim((0.5,1))\n",
    "plt.show()"
   ]
  },
  {
   "cell_type": "markdown",
   "metadata": {},
   "source": [
    "# Processing Test Data"
   ]
  },
  {
   "cell_type": "code",
   "execution_count": null,
   "metadata": {},
   "outputs": [],
   "source": [
    "X_test"
   ]
  },
  {
   "cell_type": "code",
   "execution_count": null,
   "metadata": {},
   "outputs": [],
   "source": [
    "# predict crisp classes for test set\n",
    "yhat = model.predict(X_test, verbose=0)\n",
    "preds_labels = [[1 if x > 0.5 else 0 for idx,x in enumerate(i) ] for i in yhat]\n",
    "preds_labels"
   ]
  },
  {
   "cell_type": "code",
   "execution_count": null,
   "metadata": {},
   "outputs": [],
   "source": [
    "id_list = []\n",
    "outwear = []\n",
    "top = []\n",
    "trousers = []\n",
    "women_dresses =[]\n",
    "women_skirts = []\n",
    "for i in range(len(preds_labels)):\n",
    "    id_list.append(i)\n",
    "    outwear.append(preds_labels[i][0])\n",
    "    top.append(preds_labels[i][1])\n",
    "    trousers.append(preds_labels[i][2])\n",
    "    women_dresses.append(preds_labels[i][3])\n",
    "    women_skirts.append(preds_labels[i][4])\n"
   ]
  },
  {
   "cell_type": "code",
   "execution_count": null,
   "metadata": {},
   "outputs": [],
   "source": [
    "output = pd.DataFrame({'id': id_list,\n",
    "                       'outwear': outwear,\n",
    "                       'top' : top,\n",
    "                       'trousers': trousers,\n",
    "                       'women dresses':women_dresses,\n",
    "                       'women skirts': women_skirts})\n",
    "output.to_csv('submission.csv', index=False)"
   ]
  },
  {
   "cell_type": "code",
   "execution_count": null,
   "metadata": {},
   "outputs": [],
   "source": []
  }
 ],
 "metadata": {
  "colab": {
   "collapsed_sections": [],
   "name": "nlpmodel(mask behind, can execute).ipynb",
   "provenance": []
  },
  "kernelspec": {
   "display_name": "Python 3",
   "language": "python",
   "name": "python3"
  },
  "language_info": {
   "codemirror_mode": {
    "name": "ipython",
    "version": 3
   },
   "file_extension": ".py",
   "mimetype": "text/x-python",
   "name": "python",
   "nbconvert_exporter": "python",
   "pygments_lexer": "ipython3",
   "version": "3.7.7"
  }
 },
 "nbformat": 4,
 "nbformat_minor": 1
}
